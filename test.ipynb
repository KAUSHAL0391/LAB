{
 "cells": [
  {
   "cell_type": "code",
   "execution_count": 1,
   "metadata": {},
   "outputs": [
    {
     "name": "stdout",
     "output_type": "stream",
     "text": [
      "{'N': 8, 'G': 7, 'E': 4, 'R': 6, 'C': 9, 'A': 5, 'D': 1, 'O': 2, 'S': 3}\n"
     ]
    },
    {
     "ename": "",
     "evalue": "",
     "output_type": "error",
     "traceback": [
      "\u001b[1;31mThe Kernel crashed while executing code in the the current cell or a previous cell. Please review the code in the cell(s) to identify a possible cause of the failure. Click <a href='https://aka.ms/vscodeJupyterKernelCrash'>here</a> for more info. View Jupyter <a href='command:jupyter.viewOutput'>log</a> for further details."
     ]
    }
   ],
   "source": [
    "from itertools import permutations\n",
    "def solve_cryptarithmetic(puzzle:str):\n",
    "    chars = set(puzzle.replace(\"+\", \"\").replace(\"=\", \"\"))\n",
    "    for digits in permutations(range(10), len(chars)):\n",
    "        mapping = dict(zip(chars, digits))\n",
    "        equation = \"\"\n",
    "        for char in puzzle:\n",
    "            if char == \"+\" or char == \"=\":\n",
    "                equation = equation + char\n",
    "            else:\n",
    "                equation = equation + str(mapping[char])\n",
    "        first, second = equation.split(\"+\")\n",
    "        second, result = second.split(\"=\")\n",
    "        sol = int(first) + int(second) == int(result)\n",
    "        if sol:\n",
    "            print(mapping)\n",
    "            exit(0)\n",
    "\n",
    "puzzle = \"CROSS+ROADS=DANGER\"\n",
    "solve_cryptarithmetic(puzzle)"
   ]
  },
  {
   "cell_type": "code",
   "execution_count": 1,
   "metadata": {},
   "outputs": [
    {
     "name": "stdout",
     "output_type": "stream",
     "text": [
      "+---------------+-------------------+\n",
      "| TrafficJam    |   phi(TrafficJam) |\n",
      "+===============+===================+\n",
      "| TrafficJam(0) |            0.8000 |\n",
      "+---------------+-------------------+\n",
      "| TrafficJam(1) |            0.2000 |\n",
      "+---------------+-------------------+\n"
     ]
    }
   ],
   "source": [
    "# Import necessary libraries\n",
    "from pgmpy.models import BayesianNetwork\n",
    "from pgmpy.factors.discrete import TabularCPD\n",
    "from pgmpy.inference import VariableElimination\n",
    "\n",
    "# Define the Bayesian Network structure\n",
    "model = BayesianNetwork([('Rain', 'TrafficJam'), ('Accident', 'TrafficJam')])\n",
    "\n",
    "# Define Conditional Probability Distributions (CPDs)\n",
    "cpd_rain = TabularCPD(variable='Rain', variable_card=2, values=[[0.7], [0.3]])\n",
    "cpd_accident = TabularCPD(variable='Accident', variable_card=2, values=[[0.2], [0.8]])\n",
    "cpd_traffic_jam = TabularCPD(variable='TrafficJam', variable_card=2,\n",
    "                             values=[[0.9, 0.8, 0.7, 0.1],\n",
    "                                     [0.1, 0.2, 0.3, 0.9]],\n",
    "                             evidence=['Rain', 'Accident'],\n",
    "                             evidence_card=[2, 2])\n",
    "\n",
    "# Add CPDs to the model\n",
    "model.add_cpds(cpd_rain, cpd_accident, cpd_traffic_jam)\n",
    "\n",
    "# Create an inference object using Variable Elimination\n",
    "inference = VariableElimination(model)\n",
    "\n",
    "# Query for the probability of TrafficJam given evidence\n",
    "probability_traffic_jam = inference.query(variables=['TrafficJam'], evidence={'Rain': 0, 'Accident': 1})\n",
    "\n",
    "# Print the result\n",
    "print(probability_traffic_jam)"
   ]
  },
  {
   "cell_type": "code",
   "execution_count": 2,
   "metadata": {},
   "outputs": [
    {
     "name": "stdout",
     "output_type": "stream",
     "text": [
      "Q - - - - - - -\n",
      " - - - -Q - - -\n",
      " - - - - - - -Q\n",
      " - - - - -Q - -\n",
      " - -Q - - - - -\n",
      " - - - - - -Q -\n",
      " -Q - - - - - -\n",
      " - - -Q - - - -\n"
     ]
    }
   ],
   "source": [
    "from itertools import permutations\n",
    "\n",
    "def board(vec):\n",
    "    '''Translate column positions to an equivalent chess board.'''\n",
    "    for col in vec:\n",
    "        s = [' -'] * len(vec)\n",
    "        s[col] = 'Q'\n",
    "        print(''.join(s))\n",
    "\n",
    "n = 8\n",
    "cols = list(range(n))\n",
    "found_solution = False\n",
    "\n",
    "for vec in permutations(cols):\n",
    "    valid = all(abs(vec[i] - vec[j]) != j - i for i in range(n) for j in range(i+1, n))\n",
    "    if valid:\n",
    "        found_solution = True\n",
    "        board(vec)\n",
    "        break  # Stop after finding the first valid solution\n",
    "\n",
    "if not found_solution:\n",
    "    print(\"No solution found.\")"
   ]
  }
 ],
 "metadata": {
  "kernelspec": {
   "display_name": "Python 3",
   "language": "python",
   "name": "python3"
  },
  "language_info": {
   "codemirror_mode": {
    "name": "ipython",
    "version": 3
   },
   "file_extension": ".py",
   "mimetype": "text/x-python",
   "name": "python",
   "nbconvert_exporter": "python",
   "pygments_lexer": "ipython3",
   "version": "3.11.2"
  },
  "orig_nbformat": 4
 },
 "nbformat": 4,
 "nbformat_minor": 2
}
